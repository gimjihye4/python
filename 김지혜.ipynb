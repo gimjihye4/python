{
  "nbformat": 4,
  "nbformat_minor": 0,
  "metadata": {
    "colab": {
      "name": "김지혜.ipynb",
      "version": "0.3.2",
      "provenance": [],
      "collapsed_sections": [],
      "include_colab_link": true
    },
    "kernelspec": {
      "name": "python3",
      "display_name": "Python 3"
    }
  },
  "cells": [
    {
      "cell_type": "markdown",
      "metadata": {
        "id": "view-in-github",
        "colab_type": "text"
      },
      "source": [
        "<a href=\"https://colab.research.google.com/github/gimjihye4/python/blob/master/%EA%B9%80%EC%A7%80%ED%98%9C.ipynb\" target=\"_parent\"><img src=\"https://colab.research.google.com/assets/colab-badge.svg\" alt=\"Open In Colab\"/></a>"
      ]
    },
    {
      "cell_type": "markdown",
      "metadata": {
        "id": "qDXlXW6ZO_nQ",
        "colab_type": "text"
      },
      "source": [
        "# 리스트"
      ]
    },
    {
      "cell_type": "markdown",
      "metadata": {
        "id": "q3C8GgQoP1IP",
        "colab_type": "text"
      },
      "source": [
        "## 리스트란?\n",
        "리스트는 여러 값을 담을 수 있는 변수입니다."
      ]
    },
    {
      "cell_type": "markdown",
      "metadata": {
        "id": "uIrIbb5wP8Ee",
        "colab_type": "text"
      },
      "source": [
        "### 1. 리스트 만들기\n",
        "방법은 두 가지"
      ]
    },
    {
      "cell_type": "markdown",
      "metadata": {
        "id": "Y23u1l2nQDhO",
        "colab_type": "text"
      },
      "source": [
        "#### 방법1"
      ]
    },
    {
      "cell_type": "code",
      "metadata": {
        "id": "mbpUa6HwQVzP",
        "colab_type": "code",
        "colab": {}
      },
      "source": [
        "# list1 이라는 빈 리스트를 만들어 보겠습니다.\n",
        "list1 = []"
      ],
      "execution_count": 0,
      "outputs": []
    },
    {
      "cell_type": "code",
      "metadata": {
        "id": "CX4q05yTQsGQ",
        "colab_type": "code",
        "colab": {
          "base_uri": "https://localhost:8080/",
          "height": 34
        },
        "outputId": "9b371786-0f60-420b-a75c-fd3c12b39444"
      },
      "source": [
        "print( list1 )"
      ],
      "execution_count": 2,
      "outputs": [
        {
          "output_type": "stream",
          "text": [
            "[]\n"
          ],
          "name": "stdout"
        }
      ]
    },
    {
      "cell_type": "code",
      "metadata": {
        "id": "zxIrfFiFQzuM",
        "colab_type": "code",
        "colab": {}
      },
      "source": [
        "list2 = [ 1, '철수', True ]"
      ],
      "execution_count": 0,
      "outputs": []
    },
    {
      "cell_type": "code",
      "metadata": {
        "id": "D77jewu7RHUG",
        "colab_type": "code",
        "colab": {
          "base_uri": "https://localhost:8080/",
          "height": 34
        },
        "outputId": "6818e77e-2939-4f2f-9762-912fb4700a5b"
      },
      "source": [
        "print( list2 )"
      ],
      "execution_count": 6,
      "outputs": [
        {
          "output_type": "stream",
          "text": [
            "[1, '철수', True]\n"
          ],
          "name": "stdout"
        }
      ]
    },
    {
      "cell_type": "markdown",
      "metadata": {
        "id": "gmXWQaImRn8_",
        "colab_type": "text"
      },
      "source": [
        "#### 방법2"
      ]
    },
    {
      "cell_type": "code",
      "metadata": {
        "id": "u-hs4AmTR1kR",
        "colab_type": "code",
        "colab": {}
      },
      "source": [
        "list3 = list( )"
      ],
      "execution_count": 0,
      "outputs": []
    },
    {
      "cell_type": "code",
      "metadata": {
        "id": "fPpsdlaqSEMu",
        "colab_type": "code",
        "colab": {
          "base_uri": "https://localhost:8080/",
          "height": 34
        },
        "outputId": "f681b008-1d1d-4c4d-a25b-b1f79ddaafe3"
      },
      "source": [
        "print( list3 )"
      ],
      "execution_count": 8,
      "outputs": [
        {
          "output_type": "stream",
          "text": [
            "[]\n"
          ],
          "name": "stdout"
        }
      ]
    },
    {
      "cell_type": "code",
      "metadata": {
        "id": "z59osrTJSG9H",
        "colab_type": "code",
        "colab": {}
      },
      "source": [
        "list4 = list( [ 1, '철수', True ] )"
      ],
      "execution_count": 0,
      "outputs": []
    },
    {
      "cell_type": "code",
      "metadata": {
        "id": "xsvx1UxAVkj0",
        "colab_type": "code",
        "colab": {
          "base_uri": "https://localhost:8080/",
          "height": 34
        },
        "outputId": "fac686d3-f5e0-4e44-b43d-2a38002c92e8"
      },
      "source": [
        "print( list4 )"
      ],
      "execution_count": 10,
      "outputs": [
        {
          "output_type": "stream",
          "text": [
            "[1, '철수', True]\n"
          ],
          "name": "stdout"
        }
      ]
    },
    {
      "cell_type": "code",
      "metadata": {
        "id": "sioOSPG2WEZm",
        "colab_type": "code",
        "colab": {
          "base_uri": "https://localhost:8080/",
          "height": 34
        },
        "outputId": "bee07e76-17df-4ac3-e94a-2a9d6ffad83d"
      },
      "source": [
        "list4[ 0 ]"
      ],
      "execution_count": 11,
      "outputs": [
        {
          "output_type": "execute_result",
          "data": {
            "text/plain": [
              "1"
            ]
          },
          "metadata": {
            "tags": []
          },
          "execution_count": 11
        }
      ]
    },
    {
      "cell_type": "code",
      "metadata": {
        "id": "SCgFH8hXWGkx",
        "colab_type": "code",
        "colab": {}
      },
      "source": [
        ""
      ],
      "execution_count": 0,
      "outputs": []
    }
  ]
}